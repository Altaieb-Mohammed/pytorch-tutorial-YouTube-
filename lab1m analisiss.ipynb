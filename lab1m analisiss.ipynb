{
  "nbformat": 4,
  "nbformat_minor": 0,
  "metadata": {
    "colab": {
      "provenance": [],
      "authorship_tag": "ABX9TyPREIqM0MlJOEvCKgNWQAbd",
      "include_colab_link": true
    },
    "kernelspec": {
      "name": "python3",
      "display_name": "Python 3"
    },
    "language_info": {
      "name": "python"
    }
  },
  "cells": [
    {
      "cell_type": "markdown",
      "metadata": {
        "id": "view-in-github",
        "colab_type": "text"
      },
      "source": [
        "<a href=\"https://colab.research.google.com/github/Altaieb-Mohammed/pytorch-tutorial-YouTube-/blob/main/lab1m%20analisiss.ipynb\" target=\"_parent\"><img src=\"https://colab.research.google.com/assets/colab-badge.svg\" alt=\"Open In Colab\"/></a>"
      ]
    },
    {
      "cell_type": "code",
      "execution_count": 18,
      "metadata": {
        "colab": {
          "base_uri": "https://localhost:8080/"
        },
        "id": "jTfW3Gxfjk6j",
        "outputId": "4ee969c6-40c5-4362-d06d-c873070da7ee"
      },
      "outputs": [
        {
          "output_type": "stream",
          "name": "stdout",
          "text": [
            "Columns: ['text', 'debts', 'funeral_expenses', 'bequests', 'wife', 'husband', 'son', 'daughter', 'father', 'mother', 'brother', 'sister', 'grandchild']\n",
            "Cleaned data:\n",
            "        debts  funeral_expenses   bequests  wife  husband  son  daughter  \\\n",
            "0  136423.38           7866.29   70554.96     1        0    5         4   \n",
            "1  178819.05           9078.99  150491.37     1        1    4         5   \n",
            "2  137791.13           6276.24   19846.02     1        1    3         5   \n",
            "3   74310.09           9243.89   81648.92     0        0    4         0   \n",
            "4    2302.81           7015.85   15827.62     1        1    3         2   \n",
            "\n",
            "   father  mother  brother  sister  grandchild  \n",
            "0       0       0        2       0           2  \n",
            "1       0       1        2       3           2  \n",
            "2       0       0        2       2           1  \n",
            "3       0       0        1       3           2  \n",
            "4       1       0        2       3           2  \n",
            "MinMax scaled:\n",
            "       debts  funeral_expenses  bequests  wife  husband  son  daughter  father  \\\n",
            "0  0.552445          0.762960  0.220081   1.0      0.0  1.0       0.8     0.0   \n",
            "1  0.724128          0.897712  0.469512   1.0      1.0  0.8       1.0     0.0   \n",
            "2  0.557983          0.586278  0.061850   1.0      1.0  0.6       1.0     0.0   \n",
            "3  0.300914          0.916035  0.254698   0.0      0.0  0.8       0.0     0.0   \n",
            "4  0.009317          0.668462  0.049312   1.0      1.0  0.6       0.4     1.0   \n",
            "\n",
            "   mother   brother    sister  grandchild  \n",
            "0     0.0  0.666667  0.000000         1.0  \n",
            "1     1.0  0.666667  1.000000         1.0  \n",
            "2     0.0  0.666667  0.666667         0.5  \n",
            "3     0.0  0.333333  1.000000         1.0  \n",
            "4     0.0  0.666667  1.000000         1.0  \n",
            "Standard scaled:\n",
            "       debts  funeral_expenses  bequests      wife   husband       son  \\\n",
            "0  1.277627          0.910157 -0.093089  0.995211 -0.998801  1.459351   \n",
            "1  2.048021          1.375589  1.147115  0.995211  1.001201  0.873007   \n",
            "2  1.302481          0.299899 -0.879832  0.995211  1.001201  0.286663   \n",
            "3  0.148934          1.438878  0.079032 -1.004812 -0.998801  0.873007   \n",
            "4 -1.159548          0.583760 -0.942177  0.995211  1.001201  0.286663   \n",
            "\n",
            "   daughter    father    mother   brother    sister  grandchild  \n",
            "0  0.897575 -1.006622 -1.007226  0.446410 -1.339769    1.228067  \n",
            "1  1.488941 -1.006622  0.992826  0.446410  1.338163    1.228067  \n",
            "2  1.488941 -1.006622 -1.007226  0.446410  0.445519    0.005623  \n",
            "3 -1.467888 -1.006622 -1.007226 -0.451257  1.338163    1.228067  \n",
            "4 -0.285157  0.993422 -1.007226  0.446410  1.338163    1.228067  \n"
          ]
        }
      ],
      "source": [
        "import pandas as pd\n",
        "from sklearn.preprocessing import MinMaxScaler, StandardScaler\n",
        "\n",
        "# --- Загрузить данные из GitHub----------------------------------------------------------------------------------------------------------------------------------------------------------------------------------\n",
        "url = \"https://github.com/Altaieb-Mohammed/pytorch-tutorial-YouTube-/raw/main/synthetic_inheritance_data.csv\"\n",
        "\n",
        "df = pd.read_csv(url)\n",
        "\n",
        "# --- Проверьте и выберите соответствующие функции-----------------------------------------------------------------------------------------------------------------------------------------------------------------\n",
        "print(\"Columns:\", df.columns.tolist())\n",
        "\n",
        "# Использование реальных имен столбцов из нашего набора данных----------------------------------------------------------------------------------------------------------------------------------------------------\n",
        "numeric_features = [\n",
        "    'debts', 'funeral_expenses', 'bequests', 'wife', 'husband', 'son', 'daughter',\n",
        "    'father', 'mother', 'brother', 'sister', 'grandchild'\n",
        "]\n",
        "\n",
        "# ---  Чистые данные---\n",
        "# Удалить строки с отсутствующими значениями в числовых столбцах------------------------------------------------------------------------------------------------------------------------------------------------\n",
        "df_clean = df[numeric_features].dropna()\n",
        "\n",
        "# удалить строки с неположительными значениями в финансовых столбцах.----------------------------------------------------------------------------------------------------------------------------------------------\n",
        "for col in ['debts', 'funeral_expenses', 'bequests']:\n",
        "    df_clean = df_clean[df_clean[col] > 0]\n",
        "\n",
        "# --- Масштабирование ----------------------------------------------------------------------------------------------------------------------------------------------------------------------------------------------\n",
        "# Min-Max Scaling\n",
        "minmax_scaler = MinMaxScaler()\n",
        "df_minmax = pd.DataFrame(\n",
        "    minmax_scaler.fit_transform(df_clean),\n",
        "    columns=numeric_features\n",
        ")\n",
        "\n",
        "# Standard Scaling------------------------------------------------------------------------------------------------------------------------------------------------------------------------------------------------\n",
        "standard_scaler = StandardScaler()\n",
        "df_standard = pd.DataFrame(\n",
        "    standard_scaler.fit_transform(df_clean),\n",
        "    columns=numeric_features\n",
        ")\n",
        "\n",
        "# ---  Сохраните результаты в среде Colab (при необходимости загрузите или переместите на Google Диск) ------------------------------------------------------------------------------------------------------------\n",
        "df_clean.to_csv('inheritance_cleaned.csv', index=False)\n",
        "df_minmax.to_csv('inheritance_minmax_scaled.csv', index=False)\n",
        "df_standard.to_csv('inheritance_standard_scaled.csv', index=False)\n",
        "\n",
        "# ---  Preview ---------------------------------------------------------------------------------------------  Preview------------------------------------------------------------------------------------------------------\n",
        "print(\"Cleaned data:\\n\", df_clean.head())\n",
        "print(\"MinMax scaled:\\n\", df_minmax.head())\n",
        "print(\"Standard scaled:\\n\", df_standard.head())\n"
      ]
    }
  ]
}